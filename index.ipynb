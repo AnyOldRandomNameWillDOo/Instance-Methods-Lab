{
 "cells": [
  {
   "cell_type": "markdown",
   "metadata": {},
   "source": [
    "# Instance Methods - Lab"
   ]
  },
  {
   "cell_type": "markdown",
   "metadata": {},
   "source": [
    "## Introduction\n",
    "In the last lesson, you learned about instance methods -- what they are and how to define them. In this lab, you are going to flesh out the `Driver` and `Passenger` classes by writing your own instance methods for these classes."
   ]
  },
  {
   "cell_type": "markdown",
   "metadata": {},
   "source": [
    "## Objectives\n",
    "\n",
    "In this lab you will: \n",
    "\n",
    "* Create an instance of a class \n",
    "* Define and call an instance method\n"
   ]
  },
  {
   "cell_type": "markdown",
   "metadata": {},
   "source": [
    "## Define classes and instance methods"
   ]
  },
  {
   "cell_type": "markdown",
   "metadata": {},
   "source": [
    "You will now define classes and associated instance methods in the cell below: \n",
    "    \n",
    "> **Remember:** *as we learned in the previous lesson, we need to define our instance methods with at least one argument (`self`) in order to call them on an instance object.*"
   ]
  },
  {
   "cell_type": "markdown",
   "metadata": {},
   "source": [
    "Define a class `Driver` with two instance methods: \n",
    "\n",
    "- `greeting`: this should return the string `\"Hey, how are you?\"` \n",
    "- `ask_for_destination`: this should return the string `\"Where would you like to go today?\"` "
   ]
  },
  {
   "cell_type": "code",
   "execution_count": 1,
   "metadata": {
    "ExecuteTime": {
     "end_time": "2020-09-04T21:42:49.658043Z",
     "start_time": "2020-09-04T21:42:49.654129Z"
    }
   },
   "outputs": [],
   "source": [
    "class Driver:\n",
    "    \n",
    "    def greeting(self):\n",
    "        return 'Hey, how are you?'\n",
    "    \n",
    "    def ask_for_destination(self):\n",
    "        return 'Where would you like to go today?'"
   ]
  },
  {
   "cell_type": "markdown",
   "metadata": {},
   "source": [
    "Define a class `Passenger` with two instance methods: \n",
    "\n",
    "- `reply_greeting`: this should return the string `\"I am doing well!\"` \n",
    "- `in_a_hurry`: this should return the string `\"Punch it! They're on our tail!\"`"
   ]
  },
  {
   "cell_type": "code",
   "execution_count": 12,
   "metadata": {
    "ExecuteTime": {
     "end_time": "2020-09-04T21:47:33.517091Z",
     "start_time": "2020-09-04T21:47:33.514091Z"
    }
   },
   "outputs": [],
   "source": [
    "class Passenger:\n",
    "    \n",
    "    def reply_greeting(self):\n",
    "        return 'I am doing well!'\n",
    "    \n",
    "    def in_a_hurry(self):\n",
    "        return 'Punch it! They\\'re on our tail!'"
   ]
  },
  {
   "cell_type": "markdown",
   "metadata": {},
   "source": [
    "## Instantiate classes and methods\n",
    "\n",
    "Great! You've now defined classes and the associated instance methods. You will now actually use them: \n",
    "\n",
    "Start by instantiating a driver and a passenger. Assign the driver to the variable `daniel` and assign the passenger to `niky`. "
   ]
  },
  {
   "cell_type": "code",
   "execution_count": 14,
   "metadata": {
    "ExecuteTime": {
     "end_time": "2020-09-04T21:47:43.754534Z",
     "start_time": "2020-09-04T21:47:43.748149Z"
    }
   },
   "outputs": [],
   "source": [
    "daniel = Driver() # driver\n",
    "niky = Passenger() # passenger"
   ]
  },
  {
   "cell_type": "markdown",
   "metadata": {},
   "source": [
    "Alright, you have the passengers and drivers! Now you need to put those instance methods to use. Try them out and assign the return values to the variables below. \n",
    "\n",
    "- Have `daniel` greet his passenger, who is going to be `niky`. Assign the greeting to the variable `polite_greeting` \n",
    "- Have `niky` respond by calling `in_a_hurry()`, and assign the return value to the variable, `no_time_to_talk` "
   ]
  },
  {
   "cell_type": "code",
   "execution_count": 4,
   "metadata": {
    "ExecuteTime": {
     "end_time": "2020-09-04T21:45:59.157823Z",
     "start_time": "2020-09-04T21:45:59.147825Z"
    }
   },
   "outputs": [
    {
     "name": "stdout",
     "output_type": "stream",
     "text": [
      "Hey, how are you?\n"
     ]
    }
   ],
   "source": [
    "polite_greeting = daniel.greeting()\n",
    "print(polite_greeting)"
   ]
  },
  {
   "cell_type": "code",
   "execution_count": 15,
   "metadata": {
    "ExecuteTime": {
     "end_time": "2020-09-04T21:47:45.366795Z",
     "start_time": "2020-09-04T21:47:45.360017Z"
    }
   },
   "outputs": [
    {
     "name": "stdout",
     "output_type": "stream",
     "text": [
      "Punch it! They're on our tail!\n"
     ]
    }
   ],
   "source": [
    "no_time_to_talk = niky.in_a_hurry()\n",
    "print(no_time_to_talk)"
   ]
  },
  {
   "cell_type": "code",
   "execution_count": 16,
   "metadata": {
    "ExecuteTime": {
     "end_time": "2020-09-04T21:48:28.307470Z",
     "start_time": "2020-09-04T21:48:28.299469Z"
    }
   },
   "outputs": [
    {
     "data": {
      "text/plain": [
       "'I am doing well!'"
      ]
     },
     "execution_count": 16,
     "metadata": {},
     "output_type": "execute_result"
    }
   ],
   "source": [
    "niky.reply_greeting()"
   ]
  },
  {
   "cell_type": "markdown",
   "metadata": {},
   "source": [
    "## Feel like doing more? \n",
    "\n",
    "In the cells below, you'll create three different classes that represent animals in a zoo -- lions, tigers, and elephants. Each animal should have a method, `speak()`, which returns a string containing the sound they make (feel free to have some fun with this -- we don't know how to spell the sound an elephant makes any better than you do!). "
   ]
  },
  {
   "cell_type": "code",
   "execution_count": 18,
   "metadata": {
    "ExecuteTime": {
     "end_time": "2020-09-04T21:51:11.381522Z",
     "start_time": "2020-09-04T21:51:11.379524Z"
    }
   },
   "outputs": [],
   "source": [
    "# Create Lion class\n",
    "class Lion:\n",
    "    \n",
    "    def speak(self):\n",
    "        return 'ROAAAAR!'"
   ]
  },
  {
   "cell_type": "code",
   "execution_count": 19,
   "metadata": {
    "ExecuteTime": {
     "end_time": "2020-09-04T21:51:11.719728Z",
     "start_time": "2020-09-04T21:51:11.713227Z"
    }
   },
   "outputs": [],
   "source": [
    "# Create Tiger class\n",
    "class Tiger:\n",
    "    \n",
    "    def speak(self):\n",
    "        return 'MROOOOOOwww'"
   ]
  },
  {
   "cell_type": "code",
   "execution_count": 20,
   "metadata": {
    "ExecuteTime": {
     "end_time": "2020-09-04T21:51:12.073036Z",
     "start_time": "2020-09-04T21:51:12.065478Z"
    }
   },
   "outputs": [],
   "source": [
    "# Create Elephant class\n",
    "class Elephant:\n",
    "    \n",
    "    def speak(self):\n",
    "        return 'cartoon horn sound'"
   ]
  },
  {
   "cell_type": "markdown",
   "metadata": {},
   "source": [
    "Now, in the cell below, create an instance of each animal: "
   ]
  },
  {
   "cell_type": "code",
   "execution_count": 21,
   "metadata": {
    "ExecuteTime": {
     "end_time": "2020-09-04T21:51:13.587349Z",
     "start_time": "2020-09-04T21:51:13.584381Z"
    }
   },
   "outputs": [],
   "source": [
    "simba = Lion()\n",
    "tony = Tiger()\n",
    "dumbo = Elephant()"
   ]
  },
  {
   "cell_type": "markdown",
   "metadata": {},
   "source": [
    "Now, add each of them into the list `zoo` in the cell below: "
   ]
  },
  {
   "cell_type": "code",
   "execution_count": 22,
   "metadata": {
    "ExecuteTime": {
     "end_time": "2020-09-04T21:51:27.527656Z",
     "start_time": "2020-09-04T21:51:27.521113Z"
    }
   },
   "outputs": [],
   "source": [
    "zoo = [simba, tony, dumbo]"
   ]
  },
  {
   "cell_type": "markdown",
   "metadata": {},
   "source": [
    "Now, loop through the `zoo` list and call out the `.speak()` method for every animal in the zoo. Make sure you print this in order to see the output! "
   ]
  },
  {
   "cell_type": "code",
   "execution_count": 24,
   "metadata": {
    "ExecuteTime": {
     "end_time": "2020-09-04T21:52:03.095375Z",
     "start_time": "2020-09-04T21:52:03.091376Z"
    }
   },
   "outputs": [
    {
     "name": "stdout",
     "output_type": "stream",
     "text": [
      "ROAAAAR!\n",
      "MROOOOOOwww\n",
      "cartoon horn sound\n"
     ]
    }
   ],
   "source": [
    "for animal in zoo:\n",
    "    print(animal.speak())"
   ]
  },
  {
   "cell_type": "markdown",
   "metadata": {},
   "source": [
    "## Summary\n",
    "In this lab, you practiced defining classes and instance methods. You then instantiated instances of your classes and used them to practice calling your instance methods. "
   ]
  }
 ],
 "metadata": {
  "kernelspec": {
   "display_name": "learn-env",
   "language": "python",
   "name": "learn-env"
  },
  "language_info": {
   "codemirror_mode": {
    "name": "ipython",
    "version": 3
   },
   "file_extension": ".py",
   "mimetype": "text/x-python",
   "name": "python",
   "nbconvert_exporter": "python",
   "pygments_lexer": "ipython3",
   "version": "3.6.9"
  },
  "toc": {
   "base_numbering": 1,
   "nav_menu": {},
   "number_sections": true,
   "sideBar": true,
   "skip_h1_title": false,
   "title_cell": "Table of Contents",
   "title_sidebar": "Contents",
   "toc_cell": false,
   "toc_position": {},
   "toc_section_display": true,
   "toc_window_display": true
  }
 },
 "nbformat": 4,
 "nbformat_minor": 2
}
